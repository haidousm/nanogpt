{
 "cells": [
  {
   "cell_type": "code",
   "execution_count": 5,
   "metadata": {},
   "outputs": [
    {
     "name": "stdout",
     "output_type": "stream",
     "text": [
      "--2024-02-25 18:37:15--  https://raw.githubusercontent.com/karpathy/char-rnn/master/data/tinyshakespeare/input.txt\n",
      "Resolving raw.githubusercontent.com (raw.githubusercontent.com)... 185.199.111.133, 185.199.108.133, 185.199.109.133, ...\n",
      "Connecting to raw.githubusercontent.com (raw.githubusercontent.com)|185.199.111.133|:443... connected.\n",
      "HTTP request sent, awaiting response... 200 OK\n",
      "Length: 1115394 (1.1M) [text/plain]\n",
      "Saving to: ‘data/input.txt’\n",
      "\n",
      "data/input.txt      100%[===================>]   1.06M  --.-KB/s    in 0.04s   \n",
      "\n",
      "2024-02-25 18:37:15 (29.3 MB/s) - ‘data/input.txt’ saved [1115394/1115394]\n",
      "\n"
     ]
    }
   ],
   "source": [
    "!wget https://raw.githubusercontent.com/karpathy/char-rnn/master/data/tinyshakespeare/input.txt -O data/input.txt"
   ]
  },
  {
   "cell_type": "code",
   "execution_count": 6,
   "metadata": {},
   "outputs": [],
   "source": [
    "with open('data/input.txt', 'r') as file:\n",
    "    text = file.read()"
   ]
  },
  {
   "cell_type": "code",
   "execution_count": 7,
   "metadata": {},
   "outputs": [
    {
     "name": "stdout",
     "output_type": "stream",
     "text": [
      "length of dataset in chars: 1115394\n"
     ]
    }
   ],
   "source": [
    "print(f\"length of dataset in chars: {len(text)}\")"
   ]
  },
  {
   "cell_type": "code",
   "execution_count": 10,
   "metadata": {},
   "outputs": [
    {
     "name": "stdout",
     "output_type": "stream",
     "text": [
      "First Citizen:\n",
      "Before we proceed any further, hear me speak.\n",
      "\n",
      "All:\n",
      "Speak, speak.\n",
      "\n",
      "First Citizen:\n",
      "You are all resolved rather to die than to famish?\n",
      "\n",
      "All:\n",
      "Resolved. resolved.\n",
      "\n",
      "First Citizen:\n",
      "First, you know Caius Marcius is chief enemy to the people.\n",
      "\n",
      "All:\n",
      "We know't, we know't.\n",
      "\n",
      "First Citizen:\n",
      "Let us kill him, and we'll have corn at our own price.\n",
      "Is't a verdict?\n",
      "\n",
      "All:\n",
      "No more talking on't; let it be done: away, away!\n",
      "\n",
      "Second Citizen:\n",
      "One word, good citizens.\n",
      "\n",
      "First Citizen:\n",
      "We are accounted poor citizens, the patricians good.\n",
      "What authority surfeits on would relieve us: if they\n",
      "would yield us but the superfluity, while it were\n",
      "wholesome, we might guess they relieved us humanely;\n",
      "but they think we are too dear: the leanness that\n",
      "afflicts us, the object of our misery, is as an\n",
      "inventory to particularise their abundance; our\n",
      "sufferance is a gain to them Let us revenge this with\n",
      "our pikes, ere we become rakes: for the gods know I\n",
      "speak this in hunger for bread, not in thirst for revenge.\n",
      "\n",
      "\n"
     ]
    }
   ],
   "source": [
    "print(text[:1000])"
   ]
  },
  {
   "cell_type": "code",
   "execution_count": 12,
   "metadata": {},
   "outputs": [
    {
     "name": "stdout",
     "output_type": "stream",
     "text": [
      "vocab size: 65\n",
      "\n",
      " !$&',-.3:;?ABCDEFGHIJKLMNOPQRSTUVWXYZabcdefghijklmnopqrstuvwxyz\n"
     ]
    }
   ],
   "source": [
    "chars = sorted(list(set(text)))\n",
    "vocab_size = len(chars)\n",
    "print(f\"vocab size: {vocab_size}\")\n",
    "print(''.join(chars))"
   ]
  },
  {
   "cell_type": "code",
   "execution_count": 14,
   "metadata": {},
   "outputs": [
    {
     "name": "stdout",
     "output_type": "stream",
     "text": [
      "[46, 43, 50, 50, 53, 6, 1, 61, 53, 56, 50, 42]\n",
      "hello, world\n"
     ]
    }
   ],
   "source": [
    "stoi = {ch: i for i, ch in enumerate(chars)}\n",
    "itos = {i: ch for i, ch in enumerate(chars)}\n",
    "encode = lambda x: [stoi[ch] for ch in x]\n",
    "decode = lambda x: ''.join([itos[i] for i in x])\n",
    "\n",
    "print(encode(\"hello, world\"))\n",
    "print(decode(encode(\"hello, world\")))"
   ]
  },
  {
   "cell_type": "code",
   "execution_count": 18,
   "metadata": {},
   "outputs": [
    {
     "name": "stdout",
     "output_type": "stream",
     "text": [
      "torch.Size([1115394]) torch.int64\n",
      "tensor([18, 47, 56, 57, 58,  1, 15, 47, 58, 47, 64, 43, 52, 10,  0, 14, 43, 44,\n",
      "        53, 56, 43,  1, 61, 43,  1, 54, 56, 53, 41, 43, 43, 42,  1, 39, 52, 63,\n",
      "         1, 44, 59, 56, 58, 46, 43, 56,  6,  1, 46, 43, 39, 56,  1, 51, 43,  1,\n",
      "        57, 54, 43, 39, 49,  8,  0,  0, 13, 50, 50, 10,  0, 31, 54, 43, 39, 49,\n",
      "         6,  1, 57, 54, 43, 39, 49,  8,  0,  0, 18, 47, 56, 57, 58,  1, 15, 47,\n",
      "        58, 47, 64, 43, 52, 10,  0, 37, 53, 59])\n"
     ]
    }
   ],
   "source": [
    "import torch\n",
    "data = torch.tensor(encode(text), dtype=torch.long)\n",
    "print(data.shape, data.dtype)\n",
    "print(data[:100])"
   ]
  },
  {
   "cell_type": "code",
   "execution_count": 20,
   "metadata": {},
   "outputs": [],
   "source": [
    "train_size = int(len(data) * 0.9)\n",
    "train_data = data[:train_size]\n",
    "val_data = data[train_size:]"
   ]
  },
  {
   "cell_type": "code",
   "execution_count": 22,
   "metadata": {},
   "outputs": [
    {
     "data": {
      "text/plain": [
       "tensor([18, 47, 56, 57, 58,  1, 15, 47, 58])"
      ]
     },
     "execution_count": 22,
     "metadata": {},
     "output_type": "execute_result"
    }
   ],
   "source": [
    "context_length = 8\n",
    "train_data[:context_length+1]"
   ]
  },
  {
   "cell_type": "code",
   "execution_count": 31,
   "metadata": {},
   "outputs": [
    {
     "name": "stdout",
     "output_type": "stream",
     "text": [
      "context=tensor([18]) target=47 (F->i)\n",
      "context=tensor([18, 47]) target=56 (Fi->r)\n",
      "context=tensor([18, 47, 56]) target=57 (Fir->s)\n",
      "context=tensor([18, 47, 56, 57]) target=58 (Firs->t)\n",
      "context=tensor([18, 47, 56, 57, 58]) target=1 (First-> )\n",
      "context=tensor([18, 47, 56, 57, 58,  1]) target=15 (First ->C)\n",
      "context=tensor([18, 47, 56, 57, 58,  1, 15]) target=47 (First C->i)\n",
      "context=tensor([18, 47, 56, 57, 58,  1, 15, 47]) target=58 (First Ci->t)\n"
     ]
    }
   ],
   "source": [
    "x = train_data[:context_length]\n",
    "y = train_data[1:context_length+1]\n",
    "for t in range(context_length):\n",
    "  context = x[:t+1]\n",
    "  target = y[t]\n",
    "  print(f\"context={context} target={target} ({decode(context.tolist())}->{decode([target.item()])})\")\n"
   ]
  },
  {
   "cell_type": "code",
   "execution_count": 34,
   "metadata": {},
   "outputs": [
    {
     "name": "stdout",
     "output_type": "stream",
     "text": [
      "inputs:\n",
      "torch.Size([4, 8])\n",
      "tensor([[24, 43, 58,  5, 57,  1, 46, 43],\n",
      "        [44, 53, 56,  1, 58, 46, 39, 58],\n",
      "        [52, 58,  1, 58, 46, 39, 58,  1],\n",
      "        [25, 17, 27, 10,  0, 21,  1, 54]])\n",
      "targets:\n",
      "torch.Size([4, 8])\n",
      "tensor([[43, 58,  5, 57,  1, 46, 43, 39],\n",
      "        [53, 56,  1, 58, 46, 39, 58,  1],\n",
      "        [58,  1, 58, 46, 39, 58,  1, 46],\n",
      "        [17, 27, 10,  0, 21,  1, 54, 39]])\n",
      "-----\n",
      "context=tensor([24]) target=43 (L->e)\n",
      "context=tensor([24, 43]) target=58 (Le->t)\n",
      "context=tensor([24, 43, 58]) target=5 (Let->')\n",
      "context=tensor([24, 43, 58,  5]) target=57 (Let'->s)\n",
      "context=tensor([24, 43, 58,  5, 57]) target=1 (Let's-> )\n",
      "context=tensor([24, 43, 58,  5, 57,  1]) target=46 (Let's ->h)\n",
      "context=tensor([24, 43, 58,  5, 57,  1, 46]) target=43 (Let's h->e)\n",
      "context=tensor([24, 43, 58,  5, 57,  1, 46, 43]) target=39 (Let's he->a)\n",
      "context=tensor([44]) target=53 (f->o)\n",
      "context=tensor([44, 53]) target=56 (fo->r)\n",
      "context=tensor([44, 53, 56]) target=1 (for-> )\n",
      "context=tensor([44, 53, 56,  1]) target=58 (for ->t)\n",
      "context=tensor([44, 53, 56,  1, 58]) target=46 (for t->h)\n",
      "context=tensor([44, 53, 56,  1, 58, 46]) target=39 (for th->a)\n",
      "context=tensor([44, 53, 56,  1, 58, 46, 39]) target=58 (for tha->t)\n",
      "context=tensor([44, 53, 56,  1, 58, 46, 39, 58]) target=1 (for that-> )\n",
      "context=tensor([52]) target=58 (n->t)\n",
      "context=tensor([52, 58]) target=1 (nt-> )\n",
      "context=tensor([52, 58,  1]) target=58 (nt ->t)\n",
      "context=tensor([52, 58,  1, 58]) target=46 (nt t->h)\n",
      "context=tensor([52, 58,  1, 58, 46]) target=39 (nt th->a)\n",
      "context=tensor([52, 58,  1, 58, 46, 39]) target=58 (nt tha->t)\n",
      "context=tensor([52, 58,  1, 58, 46, 39, 58]) target=1 (nt that-> )\n",
      "context=tensor([52, 58,  1, 58, 46, 39, 58,  1]) target=46 (nt that ->h)\n",
      "context=tensor([25]) target=17 (M->E)\n",
      "context=tensor([25, 17]) target=27 (ME->O)\n",
      "context=tensor([25, 17, 27]) target=10 (MEO->:)\n",
      "context=tensor([25, 17, 27, 10]) target=0 (MEO:->\n",
      ")\n",
      "context=tensor([25, 17, 27, 10,  0]) target=21 (MEO:\n",
      "->I)\n",
      "context=tensor([25, 17, 27, 10,  0, 21]) target=1 (MEO:\n",
      "I-> )\n",
      "context=tensor([25, 17, 27, 10,  0, 21,  1]) target=54 (MEO:\n",
      "I ->p)\n",
      "context=tensor([25, 17, 27, 10,  0, 21,  1, 54]) target=39 (MEO:\n",
      "I p->a)\n"
     ]
    }
   ],
   "source": [
    "torch.manual_seed(1337)\n",
    "batch_size = 4 # number of sequences in a batch\n",
    "context_length = 8 # length of a sequence\n",
    "\n",
    "def get_batch(split):\n",
    "  data = train_data if split == 'train' else val_data\n",
    "  ix = torch.randint(0, len(data) - context_length, (batch_size,))\n",
    "  x = torch.stack([data[idx:idx+context_length] for idx in ix])\n",
    "  y = torch.stack([data[idx+1:idx+context_length+1] for idx in ix])\n",
    "  return x, y\n",
    "\n",
    "xb, yb = get_batch('train')\n",
    "print(\"inputs:\")\n",
    "print(xb.shape)\n",
    "print(xb)\n",
    "print(\"targets:\")\n",
    "print(yb.shape)\n",
    "print(yb)\n",
    "\n",
    "print(\"-----\")\n",
    "\n",
    "for batch in range(batch_size):\n",
    "  for time in range(context_length):\n",
    "    context = xb[batch, :time+1]\n",
    "    target = yb[batch, time]\n",
    "    print(f\"context={context} target={target} ({decode(context.tolist())}->{decode([target.item()])})\")"
   ]
  },
  {
   "cell_type": "code",
   "execution_count": 73,
   "metadata": {},
   "outputs": [],
   "source": [
    "import torch\n",
    "import torch.nn as nn\n",
    "import torch.nn.functional as F\n",
    "torch.manual_seed(1337)\n",
    "\n",
    "class BigramLanguageModel(nn.Module):\n",
    "  def __init__(self, vocab_size):\n",
    "    super().__init__()\n",
    "    self.token_embedding_table = nn.Embedding(vocab_size, vocab_size)\n",
    "\n",
    "  def forward(self, x, targets=None):\n",
    "\n",
    "    logits = self.token_embedding_table(x)\n",
    "\n",
    "    loss = None\n",
    "    if targets is not None:\n",
    "      batch, time, channels = logits.shape\n",
    "      logits = logits.view(batch*time, channels)\n",
    "      targets = targets.view(batch * time)\n",
    "      loss = F.cross_entropy(logits, targets)\n",
    "\n",
    "    return logits, loss\n",
    "\n",
    "  def generate(self, x, max_new_tokens):\n",
    "    for _ in range(max_new_tokens):\n",
    "      logits, loss = self(x)\n",
    "      logits = logits[:, -1, :]\n",
    "      probs = F.softmax(logits, dim=-1)\n",
    "      next_token = torch.multinomial(probs, 1)\n",
    "      x = torch.cat([x, next_token.view(-1, 1)], dim=1)\n",
    "    return x\n"
   ]
  },
  {
   "cell_type": "code",
   "execution_count": 81,
   "metadata": {},
   "outputs": [
    {
     "name": "stdout",
     "output_type": "stream",
     "text": [
      "torch.Size([32, 65])\n",
      "tensor(4.4194, grad_fn=<NllLossBackward0>)\n"
     ]
    }
   ],
   "source": [
    "model = BigramLanguageModel(vocab_size)\n",
    "logits, loss = model(xb, yb)\n",
    "print(logits.shape)\n",
    "print(loss)"
   ]
  },
  {
   "cell_type": "code",
   "execution_count": 82,
   "metadata": {},
   "outputs": [
    {
     "name": "stdout",
     "output_type": "stream",
     "text": [
      "\n",
      "EJEINVSj,$HV 3\n",
      "hQULWs,&xrzVifhLsGucg?&oZhBzvQXu,fqdhA!XOJPpNBKgoE\n",
      " IMn Y$qTMyuPqL.kQ'G& HCTUqH'$zUSm\n"
     ]
    }
   ],
   "source": [
    "x = torch.zeros((1,1), dtype=torch.long)\n",
    "print(decode(model.generate(x, 100)[0].tolist()))"
   ]
  },
  {
   "cell_type": "code",
   "execution_count": 83,
   "metadata": {},
   "outputs": [],
   "source": [
    "optimizer = torch.optim.AdamW(model.parameters(), lr=1e-3)"
   ]
  },
  {
   "cell_type": "code",
   "execution_count": 123,
   "metadata": {},
   "outputs": [
    {
     "name": "stdout",
     "output_type": "stream",
     "text": [
      "loss=2.447760820388794\n"
     ]
    }
   ],
   "source": [
    "batch_size = 32\n",
    "for steps in range(10000):\n",
    "  xb, yb = get_batch('train')\n",
    "  logits, loss = model(xb, yb)\n",
    "  optimizer.zero_grad(set_to_none=True)\n",
    "  loss.backward()\n",
    "  optimizer.step()\n",
    "  # if steps % 10 == 0:\n",
    "  #   print(f\"step={steps} loss={loss.item()}\")\n",
    "print(f\"loss={loss.item()}\")"
   ]
  },
  {
   "cell_type": "code",
   "execution_count": null,
   "metadata": {},
   "outputs": [
    {
     "name": "stdout",
     "output_type": "stream",
     "text": [
      "\n",
      "pot mbr I's frain lasep f cow; hakn.\n",
      "\n",
      "OUT:\n",
      "\n",
      "MELeigo p,\n",
      "M:\n",
      "\n",
      "\n",
      "I sh hit mpunt n,\n",
      "Thule.\n",
      "Thand k? yondr,\n",
      "Te?\n",
      "tr thisopth t:\n",
      "O:\n",
      "\n",
      "I wig nt et ha faghir lleneew; t brs E wivet lin thed g atiroular ' bulime,\n",
      "Hat\n",
      "m os ive be;\n",
      "Fir is\n",
      "Maroof tharountrius, n ly ms Whagend athins,\n",
      "\n",
      "Aned alllinamyoumadebldivean the\n",
      "BIIt bel l h gured ipe: le thisther ly ak hico ig s d rairin;\n",
      "Hexthe y meay wosimo I thies t cor coon ucapr, h. oung.\n",
      "He ce the.\n",
      "URD:\n",
      "ABORWhot blunougherra th wid g y y balor cy oumor. berisedoad;\n",
      "\n"
     ]
    }
   ],
   "source": [
    "x = torch.zeros((1,1), dtype=torch.long)\n",
    "print(decode(model.generate(x, max_new_tokens=500)[0].tolist()))"
   ]
  },
  {
   "cell_type": "markdown",
   "metadata": {},
   "source": [
    "# The math trick in self-attention"
   ]
  },
  {
   "cell_type": "code",
   "execution_count": 4,
   "metadata": {},
   "outputs": [
    {
     "name": "stdout",
     "output_type": "stream",
     "text": [
      "torch.Size([4, 8, 2])\n"
     ]
    }
   ],
   "source": [
    "import torch\n",
    "torch.manual_seed(1337)\n",
    "B,T,C = 4, 8, 2\n",
    "x = torch.randn(B,T,C)\n",
    "print(x.shape)"
   ]
  },
  {
   "cell_type": "code",
   "execution_count": 6,
   "metadata": {},
   "outputs": [],
   "source": [
    "# x[b, t] = mean of x[b, i] for i in 0 to t\n",
    "xbow = torch.zeros((B, T, C)) # bow = bag of words\n",
    "for b in range(B):\n",
    "  for t in range(T):\n",
    "    xprev = x[b, :t+1]\n",
    "    xbow[b, t] = torch.mean(xprev, dim=0)"
   ]
  },
  {
   "cell_type": "code",
   "execution_count": 18,
   "metadata": {},
   "outputs": [
    {
     "data": {
      "text/plain": [
       "True"
      ]
     },
     "execution_count": 18,
     "metadata": {},
     "output_type": "execute_result"
    }
   ],
   "source": [
    "# doing matmul with a lower triangular matrix is equivalent to the above lol genius\n",
    "weights = torch.tril(torch.ones(T, T))\n",
    "weights = weights / weights.sum(1, keepdim=True)\n",
    "xbow2 = weights @ x\n",
    "torch.allclose(xbow, xbow2)"
   ]
  },
  {
   "cell_type": "code",
   "execution_count": 20,
   "metadata": {},
   "outputs": [
    {
     "data": {
      "text/plain": [
       "True"
      ]
     },
     "execution_count": 20,
     "metadata": {},
     "output_type": "execute_result"
    }
   ],
   "source": [
    "# can also use F.softmax to get the weights because the lower triangular matrix is just a special case of a weight matrix\n",
    "import torch.nn.functional as F\n",
    "tril = torch.tril(torch.ones(T, T))\n",
    "weights = torch.zeros((T, T))\n",
    "weights = weights.masked_fill(tril ==0 , float('-inf'))\n",
    "weights = F.softmax(weights, dim=1)\n",
    "xbow3 = weights @ x\n",
    "torch.allclose(xbow, xbow3)"
   ]
  },
  {
   "cell_type": "code",
   "execution_count": null,
   "metadata": {},
   "outputs": [],
   "source": []
  },
  {
   "cell_type": "code",
   "execution_count": null,
   "metadata": {},
   "outputs": [],
   "source": []
  }
 ],
 "metadata": {
  "kernelspec": {
   "display_name": "venv",
   "language": "python",
   "name": "python3"
  },
  "language_info": {
   "codemirror_mode": {
    "name": "ipython",
    "version": 3
   },
   "file_extension": ".py",
   "mimetype": "text/x-python",
   "name": "python",
   "nbconvert_exporter": "python",
   "pygments_lexer": "ipython3",
   "version": "3.9.6"
  }
 },
 "nbformat": 4,
 "nbformat_minor": 2
}
